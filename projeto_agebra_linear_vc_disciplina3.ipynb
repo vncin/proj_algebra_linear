{
 "cells": [
  {
   "cell_type": "markdown",
   "metadata": {
    "id": "eLpFYIQg7N0Z"
   },
   "source": [
    "# Início\n",
    "\n",
    "Analise do dataset encontrado no Kaggle: https://www.kaggle.com/sulianova/cardiovascular-disease-dataset\n",
    "\n",
    "Data description\n",
    "There are 3 types of input features:\n",
    "\n",
    "1. Objective: factual information;\n",
    "2. Examination: results of medical examination;\n",
    "3. Subjective: information given by the patient.\n",
    "\n",
    "Features:\n",
    "\n",
    "- Age | Objective Feature | age | int (days)\n",
    "\n",
    "- Height | Objective Feature | height | int (cm) |\n",
    "\n",
    "- Weight | Objective Feature | weight | float (kg) |\n",
    "\n",
    "- Gender | Objective Feature | gender | categorical code |\n",
    "\n",
    "- Systolic blood pressure | Examination Feature | ap_hi | int |\n",
    "\n",
    "- Diastolic blood pressure | Examination Feature | ap_lo | int |\n",
    "\n",
    "- Cholesterol | Examination Feature | cholesterol | 1: normal, 2: above normal, 3: well above normal |\n",
    "\n",
    "- Glucose | Examination Feature | gluc | 1: normal, 2: above normal, 3: well above normal |\n",
    "\n",
    "- Smoking | Subjective Feature | smoke | binary |\n",
    "\n",
    "- Alcohol intake | Subjective Feature | alco | binary |\n",
    "\n",
    "- Physical activity | Subjective Feature | active | binary |\n",
    "\n",
    "- Presence or absence of cardiovascular disease | Target Variable | cardio | binary |\n",
    "\n",
    "\n",
    "\n",
    "\n"
   ]
  },
  {
   "cell_type": "markdown",
   "metadata": {
    "id": "PJL-i-zK7rNL"
   },
   "source": [
    "### Importando as bibliotecas"
   ]
  },
  {
   "cell_type": "code",
   "execution_count": 1,
   "metadata": {
    "id": "BWKwiNbO7CGt"
   },
   "outputs": [],
   "source": [
    "import numpy as np\n",
    "import pandas as pd\n",
    "\n",
    "import sklearn as sk\n",
    "from sklearn.model_selection import train_test_split\n",
    "from sklearn.neighbors import KNeighborsClassifier as knn\n",
    "\n",
    "\n",
    "import matplotlib.pyplot as plt\n",
    "import seaborn as sns\n"
   ]
  },
  {
   "cell_type": "code",
   "execution_count": 2,
   "metadata": {
    "id": "atrcsOrrAdcL"
   },
   "outputs": [],
   "source": [
    "df = pd.read_csv(\"cardio.csv\", sep=';')"
   ]
  },
  {
   "cell_type": "code",
   "execution_count": 3,
   "metadata": {
    "colab": {
     "base_uri": "https://localhost:8080/"
    },
    "id": "iXgqAtbgA-dm",
    "outputId": "676c0507-aa86-4af3-b1b0-7b5373e28897"
   },
   "outputs": [
    {
     "data": {
      "text/plain": [
       "(70000, 13)"
      ]
     },
     "execution_count": 3,
     "metadata": {},
     "output_type": "execute_result"
    }
   ],
   "source": [
    "df.shape"
   ]
  },
  {
   "cell_type": "code",
   "execution_count": 4,
   "metadata": {
    "colab": {
     "base_uri": "https://localhost:8080/",
     "height": 206
    },
    "id": "KtY2ZEAGBFNO",
    "outputId": "be890909-ab9b-4f71-c229-ca4cd5c85685"
   },
   "outputs": [
    {
     "data": {
      "text/html": [
       "<div>\n",
       "<style scoped>\n",
       "    .dataframe tbody tr th:only-of-type {\n",
       "        vertical-align: middle;\n",
       "    }\n",
       "\n",
       "    .dataframe tbody tr th {\n",
       "        vertical-align: top;\n",
       "    }\n",
       "\n",
       "    .dataframe thead th {\n",
       "        text-align: right;\n",
       "    }\n",
       "</style>\n",
       "<table border=\"1\" class=\"dataframe\">\n",
       "  <thead>\n",
       "    <tr style=\"text-align: right;\">\n",
       "      <th></th>\n",
       "      <th>id</th>\n",
       "      <th>age</th>\n",
       "      <th>gender</th>\n",
       "      <th>height</th>\n",
       "      <th>weight</th>\n",
       "      <th>ap_hi</th>\n",
       "      <th>ap_lo</th>\n",
       "      <th>cholesterol</th>\n",
       "      <th>gluc</th>\n",
       "      <th>smoke</th>\n",
       "      <th>alco</th>\n",
       "      <th>active</th>\n",
       "      <th>cardio</th>\n",
       "    </tr>\n",
       "  </thead>\n",
       "  <tbody>\n",
       "    <tr>\n",
       "      <th>0</th>\n",
       "      <td>0</td>\n",
       "      <td>18393</td>\n",
       "      <td>2</td>\n",
       "      <td>168</td>\n",
       "      <td>62.0</td>\n",
       "      <td>110</td>\n",
       "      <td>80</td>\n",
       "      <td>1</td>\n",
       "      <td>1</td>\n",
       "      <td>0</td>\n",
       "      <td>0</td>\n",
       "      <td>1</td>\n",
       "      <td>0</td>\n",
       "    </tr>\n",
       "    <tr>\n",
       "      <th>1</th>\n",
       "      <td>1</td>\n",
       "      <td>20228</td>\n",
       "      <td>1</td>\n",
       "      <td>156</td>\n",
       "      <td>85.0</td>\n",
       "      <td>140</td>\n",
       "      <td>90</td>\n",
       "      <td>3</td>\n",
       "      <td>1</td>\n",
       "      <td>0</td>\n",
       "      <td>0</td>\n",
       "      <td>1</td>\n",
       "      <td>1</td>\n",
       "    </tr>\n",
       "    <tr>\n",
       "      <th>2</th>\n",
       "      <td>2</td>\n",
       "      <td>18857</td>\n",
       "      <td>1</td>\n",
       "      <td>165</td>\n",
       "      <td>64.0</td>\n",
       "      <td>130</td>\n",
       "      <td>70</td>\n",
       "      <td>3</td>\n",
       "      <td>1</td>\n",
       "      <td>0</td>\n",
       "      <td>0</td>\n",
       "      <td>0</td>\n",
       "      <td>1</td>\n",
       "    </tr>\n",
       "    <tr>\n",
       "      <th>3</th>\n",
       "      <td>3</td>\n",
       "      <td>17623</td>\n",
       "      <td>2</td>\n",
       "      <td>169</td>\n",
       "      <td>82.0</td>\n",
       "      <td>150</td>\n",
       "      <td>100</td>\n",
       "      <td>1</td>\n",
       "      <td>1</td>\n",
       "      <td>0</td>\n",
       "      <td>0</td>\n",
       "      <td>1</td>\n",
       "      <td>1</td>\n",
       "    </tr>\n",
       "    <tr>\n",
       "      <th>4</th>\n",
       "      <td>4</td>\n",
       "      <td>17474</td>\n",
       "      <td>1</td>\n",
       "      <td>156</td>\n",
       "      <td>56.0</td>\n",
       "      <td>100</td>\n",
       "      <td>60</td>\n",
       "      <td>1</td>\n",
       "      <td>1</td>\n",
       "      <td>0</td>\n",
       "      <td>0</td>\n",
       "      <td>0</td>\n",
       "      <td>0</td>\n",
       "    </tr>\n",
       "  </tbody>\n",
       "</table>\n",
       "</div>"
      ],
      "text/plain": [
       "   id    age  gender  height  weight  ap_hi  ap_lo  cholesterol  gluc  smoke  \\\n",
       "0   0  18393       2     168    62.0    110     80            1     1      0   \n",
       "1   1  20228       1     156    85.0    140     90            3     1      0   \n",
       "2   2  18857       1     165    64.0    130     70            3     1      0   \n",
       "3   3  17623       2     169    82.0    150    100            1     1      0   \n",
       "4   4  17474       1     156    56.0    100     60            1     1      0   \n",
       "\n",
       "   alco  active  cardio  \n",
       "0     0       1       0  \n",
       "1     0       1       1  \n",
       "2     0       0       1  \n",
       "3     0       1       1  \n",
       "4     0       0       0  "
      ]
     },
     "execution_count": 4,
     "metadata": {},
     "output_type": "execute_result"
    }
   ],
   "source": [
    "df.head()"
   ]
  },
  {
   "cell_type": "code",
   "execution_count": 5,
   "metadata": {
    "colab": {
     "base_uri": "https://localhost:8080/"
    },
    "id": "VhWLFWe5BJRO",
    "outputId": "d3527cdd-d903-4cce-b25f-8c6faf8bea60"
   },
   "outputs": [],
   "source": [
    "#mudando a idade para anos\n",
    "df['age'] = df['age'] // 365"
   ]
  },
  {
   "cell_type": "code",
   "execution_count": 6,
   "metadata": {
    "colab": {
     "base_uri": "https://localhost:8080/",
     "height": 206
    },
    "id": "SstJpOLoBTRa",
    "outputId": "3c082efb-703e-4fca-fe03-3e329d0add99"
   },
   "outputs": [
    {
     "data": {
      "text/html": [
       "<div>\n",
       "<style scoped>\n",
       "    .dataframe tbody tr th:only-of-type {\n",
       "        vertical-align: middle;\n",
       "    }\n",
       "\n",
       "    .dataframe tbody tr th {\n",
       "        vertical-align: top;\n",
       "    }\n",
       "\n",
       "    .dataframe thead th {\n",
       "        text-align: right;\n",
       "    }\n",
       "</style>\n",
       "<table border=\"1\" class=\"dataframe\">\n",
       "  <thead>\n",
       "    <tr style=\"text-align: right;\">\n",
       "      <th></th>\n",
       "      <th>id</th>\n",
       "      <th>age</th>\n",
       "      <th>gender</th>\n",
       "      <th>height</th>\n",
       "      <th>weight</th>\n",
       "      <th>ap_hi</th>\n",
       "      <th>ap_lo</th>\n",
       "      <th>cholesterol</th>\n",
       "      <th>gluc</th>\n",
       "      <th>smoke</th>\n",
       "      <th>alco</th>\n",
       "      <th>active</th>\n",
       "      <th>cardio</th>\n",
       "    </tr>\n",
       "  </thead>\n",
       "  <tbody>\n",
       "    <tr>\n",
       "      <th>0</th>\n",
       "      <td>0</td>\n",
       "      <td>50</td>\n",
       "      <td>2</td>\n",
       "      <td>168</td>\n",
       "      <td>62.0</td>\n",
       "      <td>110</td>\n",
       "      <td>80</td>\n",
       "      <td>1</td>\n",
       "      <td>1</td>\n",
       "      <td>0</td>\n",
       "      <td>0</td>\n",
       "      <td>1</td>\n",
       "      <td>0</td>\n",
       "    </tr>\n",
       "    <tr>\n",
       "      <th>1</th>\n",
       "      <td>1</td>\n",
       "      <td>55</td>\n",
       "      <td>1</td>\n",
       "      <td>156</td>\n",
       "      <td>85.0</td>\n",
       "      <td>140</td>\n",
       "      <td>90</td>\n",
       "      <td>3</td>\n",
       "      <td>1</td>\n",
       "      <td>0</td>\n",
       "      <td>0</td>\n",
       "      <td>1</td>\n",
       "      <td>1</td>\n",
       "    </tr>\n",
       "    <tr>\n",
       "      <th>2</th>\n",
       "      <td>2</td>\n",
       "      <td>51</td>\n",
       "      <td>1</td>\n",
       "      <td>165</td>\n",
       "      <td>64.0</td>\n",
       "      <td>130</td>\n",
       "      <td>70</td>\n",
       "      <td>3</td>\n",
       "      <td>1</td>\n",
       "      <td>0</td>\n",
       "      <td>0</td>\n",
       "      <td>0</td>\n",
       "      <td>1</td>\n",
       "    </tr>\n",
       "    <tr>\n",
       "      <th>3</th>\n",
       "      <td>3</td>\n",
       "      <td>48</td>\n",
       "      <td>2</td>\n",
       "      <td>169</td>\n",
       "      <td>82.0</td>\n",
       "      <td>150</td>\n",
       "      <td>100</td>\n",
       "      <td>1</td>\n",
       "      <td>1</td>\n",
       "      <td>0</td>\n",
       "      <td>0</td>\n",
       "      <td>1</td>\n",
       "      <td>1</td>\n",
       "    </tr>\n",
       "    <tr>\n",
       "      <th>4</th>\n",
       "      <td>4</td>\n",
       "      <td>47</td>\n",
       "      <td>1</td>\n",
       "      <td>156</td>\n",
       "      <td>56.0</td>\n",
       "      <td>100</td>\n",
       "      <td>60</td>\n",
       "      <td>1</td>\n",
       "      <td>1</td>\n",
       "      <td>0</td>\n",
       "      <td>0</td>\n",
       "      <td>0</td>\n",
       "      <td>0</td>\n",
       "    </tr>\n",
       "  </tbody>\n",
       "</table>\n",
       "</div>"
      ],
      "text/plain": [
       "   id  age  gender  height  weight  ap_hi  ap_lo  cholesterol  gluc  smoke  \\\n",
       "0   0   50       2     168    62.0    110     80            1     1      0   \n",
       "1   1   55       1     156    85.0    140     90            3     1      0   \n",
       "2   2   51       1     165    64.0    130     70            3     1      0   \n",
       "3   3   48       2     169    82.0    150    100            1     1      0   \n",
       "4   4   47       1     156    56.0    100     60            1     1      0   \n",
       "\n",
       "   alco  active  cardio  \n",
       "0     0       1       0  \n",
       "1     0       1       1  \n",
       "2     0       0       1  \n",
       "3     0       1       1  \n",
       "4     0       0       0  "
      ]
     },
     "execution_count": 6,
     "metadata": {},
     "output_type": "execute_result"
    }
   ],
   "source": [
    "df.head()"
   ]
  },
  {
   "cell_type": "code",
   "execution_count": 7,
   "metadata": {
    "colab": {
     "base_uri": "https://localhost:8080/"
    },
    "id": "UK0DlsSUBVuf",
    "outputId": "27dd6e08-1de0-4e5d-f3dc-65a18811a377"
   },
   "outputs": [
    {
     "name": "stdout",
     "output_type": "stream",
     "text": [
      "<class 'pandas.core.frame.DataFrame'>\n",
      "RangeIndex: 70000 entries, 0 to 69999\n",
      "Data columns (total 13 columns):\n",
      " #   Column       Non-Null Count  Dtype  \n",
      "---  ------       --------------  -----  \n",
      " 0   id           70000 non-null  int64  \n",
      " 1   age          70000 non-null  int64  \n",
      " 2   gender       70000 non-null  int64  \n",
      " 3   height       70000 non-null  int64  \n",
      " 4   weight       70000 non-null  float64\n",
      " 5   ap_hi        70000 non-null  int64  \n",
      " 6   ap_lo        70000 non-null  int64  \n",
      " 7   cholesterol  70000 non-null  int64  \n",
      " 8   gluc         70000 non-null  int64  \n",
      " 9   smoke        70000 non-null  int64  \n",
      " 10  alco         70000 non-null  int64  \n",
      " 11  active       70000 non-null  int64  \n",
      " 12  cardio       70000 non-null  int64  \n",
      "dtypes: float64(1), int64(12)\n",
      "memory usage: 6.9 MB\n"
     ]
    }
   ],
   "source": [
    "df.info()"
   ]
  },
  {
   "cell_type": "markdown",
   "metadata": {
    "id": "YIfzhOAEBYka"
   },
   "source": [
    "Podemos observar que não há valores nulos e todos os dados são numéricos. "
   ]
  },
  {
   "cell_type": "code",
   "execution_count": 8,
   "metadata": {
    "colab": {
     "base_uri": "https://localhost:8080/",
     "height": 596
    },
    "id": "FhBjjoI4Odu5",
    "outputId": "1245ccba-ba5f-4d39-bfba-495232635ac8"
   },
   "outputs": [
    {
     "data": {
      "image/png": "[encoded data removed]",
      "text/plain": [
       "<Figure size 1152x720 with 2 Axes>"
      ]
     },
     "metadata": {
      "needs_background": "light"
     },
     "output_type": "display_data"
    }
   ],
   "source": [
    "plt.figure(figsize=(16,10))\n",
    "sns.heatmap(df.corr(), annot=True, vmin=-1, vmax=1)\n",
    "plt.show()"
   ]
  },
  {
   "cell_type": "code",
   "execution_count": 9,
   "metadata": {
    "id": "N6tvdBz_OvTC"
   },
   "outputs": [],
   "source": [
    "#dropando a coluna de ID \n",
    "#df.drop(labels='id', axis=1, inplace=True)"
   ]
  },
  {
   "cell_type": "markdown",
   "metadata": {
    "id": "SFlUrJBcC7nG"
   },
   "source": [
    "### Dividindo os dados para treino, teste e validação\n",
    "\n",
    "50% treino, 25% teste e 25% validação"
   ]
  },
  {
   "cell_type": "code",
   "execution_count": 10,
   "metadata": {
    "id": "m4oITKBz7zDv"
   },
   "outputs": [
    {
     "name": "stderr",
     "output_type": "stream",
     "text": [
      "C:\\Users\\danta\\AppData\\Local\\Temp/ipykernel_12004/2592947230.py:1: FutureWarning: In a future version of pandas all arguments of DataFrame.drop except for the argument 'labels' will be keyword-only\n",
      "  X = np.array(df.drop(['cardio'], 1)) #features\n"
     ]
    }
   ],
   "source": [
    "X = np.array(df.drop(['cardio'], 1)) #features\n",
    "y = np.array(df['cardio']) #target"
   ]
  },
  {
   "cell_type": "code",
   "execution_count": 11,
   "metadata": {
    "id": "etHnlZeJC7L7"
   },
   "outputs": [],
   "source": [
    " X_train, X_test, y_train, y_test = train_test_split(X, y, test_size=0.50, random_state=1) \n",
    "\n",
    " X_test, X_val, y_test, y_val = train_test_split(X_test, y_test, test_size=0.50, random_state=1)"
   ]
  },
  {
   "cell_type": "code",
   "execution_count": 12,
   "metadata": {
    "colab": {
     "base_uri": "https://localhost:8080/"
    },
    "id": "I_86t6XcKczJ",
    "outputId": "77692012-32b4-43f3-91b2-6ad37dea3896"
   },
   "outputs": [
    {
     "name": "stdout",
     "output_type": "stream",
     "text": [
      "(35000, 12) (35000,) (17500, 12) (17500,)\n"
     ]
    }
   ],
   "source": [
    "print(X_train.shape, y_train.shape, X_test.shape, y_test.shape)"
   ]
  },
  {
   "cell_type": "code",
   "execution_count": 13,
   "metadata": {
    "colab": {
     "base_uri": "https://localhost:8080/"
    },
    "id": "aL1VCmKdCtty",
    "outputId": "27eb590b-f2df-40f1-c449-b9f2a661d1f2"
   },
   "outputs": [
    {
     "name": "stdout",
     "output_type": "stream",
     "text": [
      "(35000, 12) (35000,) (17500, 12) (17500,) (17500, 12) (17500,)\n"
     ]
    }
   ],
   "source": [
    "print(X_train.shape, y_train.shape, X_test.shape, y_test.shape, X_val.shape, y_val.shape)"
   ]
  },
  {
   "cell_type": "code",
   "execution_count": 14,
   "metadata": {
    "id": "A92fdY0fkLHt"
   },
   "outputs": [],
   "source": [
    "from sklearn.preprocessing import StandardScaler"
   ]
  },
  {
   "cell_type": "code",
   "execution_count": 15,
   "metadata": {
    "id": "pf_Tyslmj916"
   },
   "outputs": [],
   "source": [
    "#normalizando os dados\n",
    "\n",
    "sc_X = StandardScaler()\n",
    "X_train = sc_X.fit_transform(X_train)\n",
    "X_test = sc_X.transform(X_test)\n",
    "X_val = sc_X.transform(X_val)\n",
    "X = sc_X.fit_transform(X)"
   ]
  },
  {
   "cell_type": "code",
   "execution_count": 16,
   "metadata": {
    "id": "xWkWg1UqDzJs"
   },
   "outputs": [],
   "source": [
    "clf = knn()"
   ]
  },
  {
   "cell_type": "markdown",
   "metadata": {
    "id": "sWZSlDcZxXUq"
   },
   "source": [
    "# Otimizando os parametros (GridSearch)"
   ]
  },
  {
   "cell_type": "code",
   "execution_count": 17,
   "metadata": {
    "id": "WNFIoCV4xdGO"
   },
   "outputs": [],
   "source": [
    "from sklearn.model_selection import GridSearchCV"
   ]
  },
  {
   "cell_type": "code",
   "execution_count": 18,
   "metadata": {
    "id": "ww4TYNCfxeJA"
   },
   "outputs": [],
   "source": [
    "#lista com os valores de K que serão testados\n",
    "k_list = list(range(1,25))\n",
    "parameters = dict(n_neighbors=k_list)"
   ]
  },
  {
   "cell_type": "code",
   "execution_count": 19,
   "metadata": {
    "colab": {
     "base_uri": "https://localhost:8080/"
    },
    "id": "hWfZU8GzxeGO",
    "outputId": "71bc2062-3557-4018-e9ca-c9a8625f2a53"
   },
   "outputs": [
    {
     "name": "stdout",
     "output_type": "stream",
     "text": [
      "Wall time: 3min 13s\n"
     ]
    },
    {
     "data": {
      "text/plain": [
       "GridSearchCV(cv=5, estimator=KNeighborsClassifier(),\n",
       "             param_grid={'metric': ['euclidean', 'chebyshev'],\n",
       "                         'n_neighbors': [1, 2, 3, 4, 5, 6, 7, 8, 9, 10, 11, 12,\n",
       "                                         13, 14, 15, 16, 17, 18, 19, 20, 21, 22,\n",
       "                                         23, 24]},\n",
       "             scoring='accuracy')"
      ]
     },
     "execution_count": 19,
     "metadata": {},
     "output_type": "execute_result"
    }
   ],
   "source": [
    "%%time\n",
    "parameters = {'n_neighbors':k_list,'metric':['euclidean','chebyshev']}\n",
    "grid = GridSearchCV(clf,parameters,cv=5,scoring='accuracy')\n",
    "grid.fit(X_val,y_val) #usando o conjunto de validação para determinar os parametros com o GridSearch\n"
   ]
  },
  {
   "cell_type": "code",
   "execution_count": 20,
   "metadata": {
    "id": "jlmqlpSRxeDn"
   },
   "outputs": [],
   "source": [
    "scores = pd.DataFrame(grid.cv_results_)"
   ]
  },
  {
   "cell_type": "code",
   "execution_count": 21,
   "metadata": {
    "colab": {
     "base_uri": "https://localhost:8080/",
     "height": 486
    },
    "id": "vINeGNKd42_W",
    "outputId": "29c20b2b-d441-421d-bba2-3e34f64b556e"
   },
   "outputs": [
    {
     "data": {
      "text/html": [
       "<div>\n",
       "<style scoped>\n",
       "    .dataframe tbody tr th:only-of-type {\n",
       "        vertical-align: middle;\n",
       "    }\n",
       "\n",
       "    .dataframe tbody tr th {\n",
       "        vertical-align: top;\n",
       "    }\n",
       "\n",
       "    .dataframe thead th {\n",
       "        text-align: right;\n",
       "    }\n",
       "</style>\n",
       "<table border=\"1\" class=\"dataframe\">\n",
       "  <thead>\n",
       "    <tr style=\"text-align: right;\">\n",
       "      <th></th>\n",
       "      <th>mean_fit_time</th>\n",
       "      <th>std_fit_time</th>\n",
       "      <th>mean_score_time</th>\n",
       "      <th>std_score_time</th>\n",
       "      <th>param_metric</th>\n",
       "      <th>param_n_neighbors</th>\n",
       "      <th>params</th>\n",
       "      <th>split0_test_score</th>\n",
       "      <th>split1_test_score</th>\n",
       "      <th>split2_test_score</th>\n",
       "      <th>split3_test_score</th>\n",
       "      <th>split4_test_score</th>\n",
       "      <th>mean_test_score</th>\n",
       "      <th>std_test_score</th>\n",
       "      <th>rank_test_score</th>\n",
       "    </tr>\n",
       "  </thead>\n",
       "  <tbody>\n",
       "    <tr>\n",
       "      <th>0</th>\n",
       "      <td>0.038809</td>\n",
       "      <td>0.001166</td>\n",
       "      <td>0.371386</td>\n",
       "      <td>0.005234</td>\n",
       "      <td>euclidean</td>\n",
       "      <td>1</td>\n",
       "      <td>{'metric': 'euclidean', 'n_neighbors': 1}</td>\n",
       "      <td>0.585143</td>\n",
       "      <td>0.583429</td>\n",
       "      <td>0.580571</td>\n",
       "      <td>0.584000</td>\n",
       "      <td>0.570857</td>\n",
       "      <td>0.580800</td>\n",
       "      <td>0.005195</td>\n",
       "      <td>45</td>\n",
       "    </tr>\n",
       "    <tr>\n",
       "      <th>1</th>\n",
       "      <td>0.038009</td>\n",
       "      <td>0.001414</td>\n",
       "      <td>0.416699</td>\n",
       "      <td>0.005459</td>\n",
       "      <td>euclidean</td>\n",
       "      <td>2</td>\n",
       "      <td>{'metric': 'euclidean', 'n_neighbors': 2}</td>\n",
       "      <td>0.583714</td>\n",
       "      <td>0.574286</td>\n",
       "      <td>0.579429</td>\n",
       "      <td>0.577714</td>\n",
       "      <td>0.573714</td>\n",
       "      <td>0.577771</td>\n",
       "      <td>0.003652</td>\n",
       "      <td>47</td>\n",
       "    </tr>\n",
       "    <tr>\n",
       "      <th>2</th>\n",
       "      <td>0.037809</td>\n",
       "      <td>0.000748</td>\n",
       "      <td>0.442509</td>\n",
       "      <td>0.005240</td>\n",
       "      <td>euclidean</td>\n",
       "      <td>3</td>\n",
       "      <td>{'metric': 'euclidean', 'n_neighbors': 3}</td>\n",
       "      <td>0.604000</td>\n",
       "      <td>0.614571</td>\n",
       "      <td>0.611714</td>\n",
       "      <td>0.609143</td>\n",
       "      <td>0.596286</td>\n",
       "      <td>0.607143</td>\n",
       "      <td>0.006447</td>\n",
       "      <td>38</td>\n",
       "    </tr>\n",
       "    <tr>\n",
       "      <th>3</th>\n",
       "      <td>0.038696</td>\n",
       "      <td>0.000412</td>\n",
       "      <td>0.476441</td>\n",
       "      <td>0.015908</td>\n",
       "      <td>euclidean</td>\n",
       "      <td>4</td>\n",
       "      <td>{'metric': 'euclidean', 'n_neighbors': 4}</td>\n",
       "      <td>0.602286</td>\n",
       "      <td>0.602571</td>\n",
       "      <td>0.610286</td>\n",
       "      <td>0.600000</td>\n",
       "      <td>0.595143</td>\n",
       "      <td>0.602057</td>\n",
       "      <td>0.004900</td>\n",
       "      <td>41</td>\n",
       "    </tr>\n",
       "    <tr>\n",
       "      <th>4</th>\n",
       "      <td>0.039809</td>\n",
       "      <td>0.001601</td>\n",
       "      <td>0.494512</td>\n",
       "      <td>0.012309</td>\n",
       "      <td>euclidean</td>\n",
       "      <td>5</td>\n",
       "      <td>{'metric': 'euclidean', 'n_neighbors': 5}</td>\n",
       "      <td>0.613429</td>\n",
       "      <td>0.622571</td>\n",
       "      <td>0.616286</td>\n",
       "      <td>0.618857</td>\n",
       "      <td>0.611429</td>\n",
       "      <td>0.616514</td>\n",
       "      <td>0.003940</td>\n",
       "      <td>31</td>\n",
       "    </tr>\n",
       "  </tbody>\n",
       "</table>\n",
       "</div>"
      ],
      "text/plain": [
       "   mean_fit_time  std_fit_time  mean_score_time  std_score_time param_metric  \\\n",
       "0       0.038809      0.001166         0.371386        0.005234    euclidean   \n",
       "1       0.038009      0.001414         0.416699        0.005459    euclidean   \n",
       "2       0.037809      0.000748         0.442509        0.005240    euclidean   \n",
       "3       0.038696      0.000412         0.476441        0.015908    euclidean   \n",
       "4       0.039809      0.001601         0.494512        0.012309    euclidean   \n",
       "\n",
       "  param_n_neighbors                                     params  \\\n",
       "0                 1  {'metric': 'euclidean', 'n_neighbors': 1}   \n",
       "1                 2  {'metric': 'euclidean', 'n_neighbors': 2}   \n",
       "2                 3  {'metric': 'euclidean', 'n_neighbors': 3}   \n",
       "3                 4  {'metric': 'euclidean', 'n_neighbors': 4}   \n",
       "4                 5  {'metric': 'euclidean', 'n_neighbors': 5}   \n",
       "\n",
       "   split0_test_score  split1_test_score  split2_test_score  split3_test_score  \\\n",
       "0           0.585143           0.583429           0.580571           0.584000   \n",
       "1           0.583714           0.574286           0.579429           0.577714   \n",
       "2           0.604000           0.614571           0.611714           0.609143   \n",
       "3           0.602286           0.602571           0.610286           0.600000   \n",
       "4           0.613429           0.622571           0.616286           0.618857   \n",
       "\n",
       "   split4_test_score  mean_test_score  std_test_score  rank_test_score  \n",
       "0           0.570857         0.580800        0.005195               45  \n",
       "1           0.573714         0.577771        0.003652               47  \n",
       "2           0.596286         0.607143        0.006447               38  \n",
       "3           0.595143         0.602057        0.004900               41  \n",
       "4           0.611429         0.616514        0.003940               31  "
      ]
     },
     "execution_count": 21,
     "metadata": {},
     "output_type": "execute_result"
    }
   ],
   "source": [
    "scores.head()"
   ]
  },
  {
   "cell_type": "code",
   "execution_count": 22,
   "metadata": {
    "colab": {
     "base_uri": "https://localhost:8080/"
    },
    "id": "P7788KY65jy1",
    "outputId": "df208dc9-e788-4368-fac0-78b6169f4793"
   },
   "outputs": [
    {
     "data": {
      "text/plain": [
       "{'metric': 'euclidean', 'n_neighbors': 23}"
      ]
     },
     "execution_count": 22,
     "metadata": {},
     "output_type": "execute_result"
    }
   ],
   "source": [
    "grid.best_params_"
   ]
  },
  {
   "cell_type": "code",
   "execution_count": 23,
   "metadata": {
    "colab": {
     "base_uri": "https://localhost:8080/"
    },
    "id": "6kSsC952AeJi",
    "outputId": "0996f8d1-5c8e-4578-b10a-1f49aff003c5"
   },
   "outputs": [
    {
     "data": {
      "text/plain": [
       "0.6340571428571428"
      ]
     },
     "execution_count": 23,
     "metadata": {},
     "output_type": "execute_result"
    }
   ],
   "source": [
    "grid.best_score_"
   ]
  },
  {
   "cell_type": "code",
   "execution_count": 24,
   "metadata": {
    "id": "MVpcVtTf5Acy"
   },
   "outputs": [],
   "source": [
    "#Aplicando os parametros dados pelo GridSearch\n",
    "clf = knn(n_neighbors=21, metric='euclidean')"
   ]
  },
  {
   "cell_type": "code",
   "execution_count": 25,
   "metadata": {
    "colab": {
     "base_uri": "https://localhost:8080/"
    },
    "id": "7lyg3mNKD_lw",
    "outputId": "e79c48d7-ffd7-47b5-a1ca-3437cbd591cc"
   },
   "outputs": [
    {
     "data": {
      "text/plain": [
       "KNeighborsClassifier(metric='euclidean', n_neighbors=21)"
      ]
     },
     "execution_count": 25,
     "metadata": {},
     "output_type": "execute_result"
    }
   ],
   "source": [
    "#Treinando o conjunto com os parametros definidos\n",
    "clf.fit(X_train, y_train)"
   ]
  },
  {
   "cell_type": "markdown",
   "metadata": {
    "id": "lxH__5nceeab"
   },
   "source": [
    "### Métricas (Accuracy, Precision, Recall, F1-Score)"
   ]
  },
  {
   "cell_type": "code",
   "execution_count": 26,
   "metadata": {
    "id": "EgM2zI1-jYbG"
   },
   "outputs": [],
   "source": [
    "y_pred = clf.predict(X_test)"
   ]
  },
  {
   "cell_type": "code",
   "execution_count": 27,
   "metadata": {
    "id": "9HDpbk8vwUE4"
   },
   "outputs": [],
   "source": [
    "y_pred_train = clf.predict(X_train)"
   ]
  },
  {
   "cell_type": "code",
   "execution_count": 28,
   "metadata": {
    "id": "gmevfNcGwkDp"
   },
   "outputs": [],
   "source": [
    "y_pred_val = clf.predict(X_val)"
   ]
  },
  {
   "cell_type": "code",
   "execution_count": 29,
   "metadata": {
    "colab": {
     "base_uri": "https://localhost:8080/"
    },
    "id": "bzvra3VRkkl5",
    "outputId": "ec1bab1a-4601-4dab-b073-2904295bc567"
   },
   "outputs": [
    {
     "data": {
      "text/plain": [
       "array([1, 0, 0, ..., 0, 0, 0], dtype=int64)"
      ]
     },
     "execution_count": 29,
     "metadata": {},
     "output_type": "execute_result"
    }
   ],
   "source": [
    "y_pred"
   ]
  },
  {
   "cell_type": "code",
   "execution_count": 30,
   "metadata": {
    "colab": {
     "base_uri": "https://localhost:8080/"
    },
    "id": "k-aGBydrkmyq",
    "outputId": "73044941-ec09-4ca0-e223-e770eda3816e"
   },
   "outputs": [
    {
     "data": {
      "text/plain": [
       "array([1, 1, 0, ..., 0, 1, 0], dtype=int64)"
      ]
     },
     "execution_count": 30,
     "metadata": {},
     "output_type": "execute_result"
    }
   ],
   "source": [
    "y_test"
   ]
  },
  {
   "cell_type": "code",
   "execution_count": 31,
   "metadata": {
    "colab": {
     "base_uri": "https://localhost:8080/"
    },
    "id": "tq6tWPfXk8AR",
    "outputId": "381cef0c-5477-4d22-97a8-6fc40ab44cd3"
   },
   "outputs": [
    {
     "data": {
      "text/plain": [
       "0.6417714285714285"
      ]
     },
     "execution_count": 31,
     "metadata": {},
     "output_type": "execute_result"
    }
   ],
   "source": [
    "accuracy = clf.score(X_test, y_test)\n",
    "accuracy"
   ]
  },
  {
   "cell_type": "code",
   "execution_count": 32,
   "metadata": {
    "id": "T9oCTZwcjkgt"
   },
   "outputs": [],
   "source": [
    "from sklearn.metrics import classification_report as cr"
   ]
  },
  {
   "cell_type": "code",
   "execution_count": 33,
   "metadata": {
    "colab": {
     "base_uri": "https://localhost:8080/"
    },
    "id": "vyflkCssjy11",
    "outputId": "27ddf22f-483a-457f-de9b-9d40fa8ae459"
   },
   "outputs": [
    {
     "name": "stdout",
     "output_type": "stream",
     "text": [
      "                             precision    recall  f1-score   support\n",
      "\n",
      "Ausencia de Doença Cardiaca       0.62      0.68      0.65      8613\n",
      "Presença de Doença Cardiaca       0.66      0.60      0.63      8887\n",
      "\n",
      "                   accuracy                           0.64     17500\n",
      "                  macro avg       0.64      0.64      0.64     17500\n",
      "               weighted avg       0.64      0.64      0.64     17500\n",
      "\n"
     ]
    }
   ],
   "source": [
    "#Metricas para o conjunto de teste\n",
    "target_names = ['Ausencia de Doença Cardiaca', 'Presença de Doença Cardiaca']\n",
    "print(cr(y_test, y_pred, target_names=target_names))"
   ]
  },
  {
   "cell_type": "markdown",
   "metadata": {
    "id": "y6uquE_XlCUB"
   },
   "source": [
    "Support indica a quantidade de pessoas com Ausencia ou Presença de Doença Cardiaca no conjunto de teste (y_test)"
   ]
  },
  {
   "cell_type": "code",
   "execution_count": 34,
   "metadata": {
    "colab": {
     "base_uri": "https://localhost:8080/"
    },
    "id": "4hygmziIwJDD",
    "outputId": "59e5dcf8-9af8-4da2-9db3-82274ce788d2"
   },
   "outputs": [
    {
     "name": "stdout",
     "output_type": "stream",
     "text": [
      "                             precision    recall  f1-score   support\n",
      "\n",
      "Ausencia de Doença Cardiaca       0.68      0.72      0.70     17721\n",
      "Presença de Doença Cardiaca       0.69      0.65      0.67     17279\n",
      "\n",
      "                   accuracy                           0.68     35000\n",
      "                  macro avg       0.68      0.68      0.68     35000\n",
      "               weighted avg       0.68      0.68      0.68     35000\n",
      "\n"
     ]
    }
   ],
   "source": [
    "#Metricas para o conjunto de treino\n",
    "target_names = ['Ausencia de Doença Cardiaca', 'Presença de Doença Cardiaca']\n",
    "print(cr(y_train, y_pred_train, target_names=target_names))"
   ]
  },
  {
   "cell_type": "code",
   "execution_count": 35,
   "metadata": {
    "id": "1psEEpii2vgs"
   },
   "outputs": [],
   "source": [
    "#Metricas para o conjunto de validação"
   ]
  },
  {
   "cell_type": "code",
   "execution_count": 36,
   "metadata": {
    "colab": {
     "base_uri": "https://localhost:8080/"
    },
    "id": "BAOdciaZwrNA",
    "outputId": "addd3baa-893a-4e80-97e9-445a46e5f065"
   },
   "outputs": [
    {
     "name": "stdout",
     "output_type": "stream",
     "text": [
      "                             precision    recall  f1-score   support\n",
      "\n",
      "Ausencia de Doença Cardiaca       0.63      0.68      0.65      8687\n",
      "Presença de Doença Cardiaca       0.65      0.60      0.63      8813\n",
      "\n",
      "                   accuracy                           0.64     17500\n",
      "                  macro avg       0.64      0.64      0.64     17500\n",
      "               weighted avg       0.64      0.64      0.64     17500\n",
      "\n"
     ]
    }
   ],
   "source": [
    "target_names = ['Ausencia de Doença Cardiaca', 'Presença de Doença Cardiaca']\n",
    "print(cr(y_val, y_pred_val, target_names=target_names))"
   ]
  },
  {
   "cell_type": "markdown",
   "metadata": {
    "id": "jT4HWU3NV4_C"
   },
   "source": [
    "#  Otimizanndo os parametros PSO"
   ]
  },
  {
   "cell_type": "code",
   "execution_count": 37,
   "metadata": {
    "colab": {
     "base_uri": "https://localhost:8080/"
    },
    "id": "5-UgipqvXXsp",
    "outputId": "f8f8c390-7b79-456f-fc02-ef237e9f9877"
   },
   "outputs": [
    {
     "name": "stdout",
     "output_type": "stream",
     "text": [
      "Requirement already satisfied: pyswarms in c:\\users\\danta\\anaconda3\\envs\\ds\\lib\\site-packages (1.3.0)\n",
      "Requirement already satisfied: tqdm in c:\\users\\danta\\anaconda3\\envs\\ds\\lib\\site-packages (from pyswarms) (4.62.3)\n",
      "Requirement already satisfied: scipy in c:\\users\\danta\\anaconda3\\envs\\ds\\lib\\site-packages (from pyswarms) (1.7.2)\n",
      "Requirement already satisfied: numpy in c:\\users\\danta\\anaconda3\\envs\\ds\\lib\\site-packages (from pyswarms) (1.20.3)\n",
      "Requirement already satisfied: attrs in c:\\users\\danta\\anaconda3\\envs\\ds\\lib\\site-packages (from pyswarms) (21.2.0)\n",
      "Requirement already satisfied: pyyaml in c:\\users\\danta\\anaconda3\\envs\\ds\\lib\\site-packages (from pyswarms) (6.0)\n",
      "Requirement already satisfied: future in c:\\users\\danta\\anaconda3\\envs\\ds\\lib\\site-packages (from pyswarms) (0.18.2)\n",
      "Requirement already satisfied: matplotlib>=1.3.1 in c:\\users\\danta\\anaconda3\\envs\\ds\\lib\\site-packages (from pyswarms) (3.4.3)\n",
      "Requirement already satisfied: kiwisolver>=1.0.1 in c:\\users\\danta\\anaconda3\\envs\\ds\\lib\\site-packages (from matplotlib>=1.3.1->pyswarms) (1.3.2)\n",
      "Requirement already satisfied: cycler>=0.10 in c:\\users\\danta\\anaconda3\\envs\\ds\\lib\\site-packages (from matplotlib>=1.3.1->pyswarms) (0.11.0)\n",
      "Requirement already satisfied: pyparsing>=2.2.1 in c:\\users\\danta\\anaconda3\\envs\\ds\\lib\\site-packages (from matplotlib>=1.3.1->pyswarms) (2.4.7)\n",
      "Requirement already satisfied: pillow>=6.2.0 in c:\\users\\danta\\anaconda3\\envs\\ds\\lib\\site-packages (from matplotlib>=1.3.1->pyswarms) (8.4.0)\n",
      "Requirement already satisfied: python-dateutil>=2.7 in c:\\users\\danta\\anaconda3\\envs\\ds\\lib\\site-packages (from matplotlib>=1.3.1->pyswarms) (2.8.2)\n",
      "Requirement already satisfied: six>=1.5 in c:\\users\\danta\\anaconda3\\envs\\ds\\lib\\site-packages (from python-dateutil>=2.7->matplotlib>=1.3.1->pyswarms) (1.16.0)\n",
      "Requirement already satisfied: colorama in c:\\users\\danta\\anaconda3\\envs\\ds\\lib\\site-packages (from tqdm->pyswarms) (0.4.4)\n",
      "Note: you may need to restart the kernel to use updated packages.\n"
     ]
    }
   ],
   "source": [
    "pip install pyswarms"
   ]
  },
  {
   "cell_type": "code",
   "execution_count": 38,
   "metadata": {
    "id": "LCSaMIafV-_t"
   },
   "outputs": [],
   "source": [
    "import pyswarms as ps\n",
    "from pyswarms.utils.functions import single_obj as fx"
   ]
  },
  {
   "cell_type": "code",
   "execution_count": 39,
   "metadata": {
    "id": "3FBV0Zy7WGca"
   },
   "outputs": [],
   "source": [
    "max_bounds = 5.12 * np.ones(2)\n",
    "min_bounds = - max_bounds\n",
    "bounds = (min_bounds, max_bounds)"
   ]
  },
  {
   "cell_type": "code",
   "execution_count": 40,
   "metadata": {
    "colab": {
     "base_uri": "https://localhost:8080/"
    },
    "id": "HheUZUtSWGSA",
    "outputId": "d98ae5e6-a3b4-4d6b-8dd2-f92bc245800b"
   },
   "outputs": [
    {
     "name": "stderr",
     "output_type": "stream",
     "text": [
      "2021-11-08 09:58:07,739 - pyswarms.single.global_best - INFO - Optimize for 1000 iters with {'c1': 0.5, 'c2': 0.3, 'w': 0.9}\n",
      "pyswarms.single.global_best: 100%|██████████████████████████████████████████████████████████████|1000/1000, best_cost=0\n",
      "2021-11-08 09:58:08,764 - pyswarms.single.global_best - INFO - Optimization finished | best cost: 0.0, best pos: [2.96122341e-09 1.06816414e-10]\n"
     ]
    },
    {
     "name": "stdout",
     "output_type": "stream",
     "text": [
      "Wall time: 1.03 s\n"
     ]
    }
   ],
   "source": [
    "%%time\n",
    "\n",
    "options = {'c1': 0.5, 'c2': 0.3, 'w': 0.9}\n",
    "\n",
    "optimizer = ps.single.GlobalBestPSO(n_particles=10, dimensions=2, options=options, bounds=bounds)\n",
    "cost, pos = optimizer.optimize(fx.rastrigin, iters=1000)"
   ]
  },
  {
   "cell_type": "code",
   "execution_count": 41,
   "metadata": {
    "id": "LQ7fZpcnplH5"
   },
   "outputs": [],
   "source": [
    "from sklearn.metrics import classification_report as cr"
   ]
  },
  {
   "cell_type": "code",
   "execution_count": 43,
   "metadata": {
    "colab": {
     "base_uri": "https://localhost:8080/"
    },
    "id": "H6xZMlBamzvX",
    "outputId": "724905b1-1e29-496d-e2a6-313000213958"
   },
   "outputs": [
    {
     "name": "stderr",
     "output_type": "stream",
     "text": [
      "2021-11-08 10:02:49,520 - pyswarms.single.global_best - INFO - Optimize for 1000 iters with {'c1': 0.3, 'c2': 0.3, 'w': 0.5}\n",
      "pyswarms.single.global_best: 100%|██████████████████████████████████████████████████████████|1000/1000, best_cost=0.361\n",
      "2021-11-08 12:11:49,874 - pyswarms.single.global_best - INFO - Optimization finished | best cost: 0.3611428571428571, best pos: [21.26023425  1.94963232]\n"
     ]
    }
   ],
   "source": [
    "def fit_func(k, X_train, y_train):\n",
    "  if int(k[0,1]) == 1:\n",
    "    metric = 'euclidean'\n",
    "  else:\n",
    "    metric = 'chebyshev'\n",
    "  clf_pso = knn(n_neighbors=int(k[0,0]), metric = metric)\n",
    "  clf_pso.fit(X_train, y_train)\n",
    "  acrcy = cr(y_val, clf_pso.predict(X_val), output_dict=True)['accuracy']\n",
    "  return 1-acrcy\n",
    "\n",
    "max_bound = np.array([25, 3])\n",
    "min_bound = np.array([1,1])\n",
    "bounds_pso = (min_bound, max_bound)\n",
    "\n",
    "options = {'c1': 0.3, 'c2': 0.3, 'w': 0.5}\n",
    "optimizer = ps.single.GlobalBestPSO(n_particles=10, dimensions=2, options=options, bounds=bounds_pso)\n",
    "cost, pos = optimizer.optimize(fit_func, iters=1000, X_train = X_train, y_train = y_train)"
   ]
  },
  {
   "cell_type": "code",
   "execution_count": 44,
   "metadata": {
    "colab": {
     "base_uri": "https://localhost:8080/"
    },
    "id": "Qt7LD5EJB7s6",
    "outputId": "a91dca62-7fdf-4234-9e53-66c2bc962609"
   },
   "outputs": [
    {
     "name": "stdout",
     "output_type": "stream",
     "text": [
      "              precision    recall  f1-score   support\n",
      "\n",
      "           0       0.62      0.68      0.65      8613\n",
      "           1       0.66      0.60      0.63      8887\n",
      "\n",
      "    accuracy                           0.64     17500\n",
      "   macro avg       0.64      0.64      0.64     17500\n",
      "weighted avg       0.64      0.64      0.64     17500\n",
      "\n"
     ]
    }
   ],
   "source": [
    "if int(pos[1]) == 1:\n",
    "  metric = 'euclidean'\n",
    "else:\n",
    "  metric = 'chebyshev'\n",
    "clf = knn(metric = metric, n_neighbors=int(pos[0]))\n",
    "clf.fit(X_train, y_train)\n",
    "print(cr(y_test, clf.predict(X_test)))"
   ]
  }
 ],
 "metadata": {
  "colab": {
   "name": "projeto_agebra_linear_vc_disciplina3.ipynb",
   "provenance": []
  },
  "kernelspec": {
   "display_name": "Python 3 (ipykernel)",
   "language": "python",
   "name": "python3"
  },
  "language_info": {
   "codemirror_mode": {
    "name": "ipython",
    "version": 3
   },
   "file_extension": ".py",
   "mimetype": "text/x-python",
   "name": "python",
   "nbconvert_exporter": "python",
   "pygments_lexer": "ipython3",
   "version": "3.9.12"
  }
 },
 "nbformat": 4,
 "nbformat_minor": 1
}
